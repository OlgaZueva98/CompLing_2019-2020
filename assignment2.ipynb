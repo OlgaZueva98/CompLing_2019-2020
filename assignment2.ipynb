{
  "nbformat": 4,
  "nbformat_minor": 0,
  "metadata": {
    "colab": {
      "name": "assignment2.ipynb",
      "provenance": [],
      "collapsed_sections": []
    },
    "kernelspec": {
      "name": "python3",
      "display_name": "Python 3"
    }
  },
  "cells": [
    {
      "cell_type": "code",
      "metadata": {
        "id": "d8OOvEIhJEhj",
        "colab_type": "code",
        "colab": {}
      },
      "source": [
        "from matplotlib import pyplot as plt\n",
        "import pandas as pd\n",
        "import numpy as np\n",
        "from sklearn.linear_model import LogisticRegression\n",
        "from sklearn.neighbors import KNeighborsClassifier\n",
        "from sklearn.model_selection import train_test_split\n",
        "from sklearn.datasets import make_circles\n",
        "#from sklearn.datasets import make_classification\n",
        "from sklearn.metrics import accuracy_score\n",
        "\n",
        "%matplotlib inline"
      ],
      "execution_count": 0,
      "outputs": []
    },
    {
      "cell_type": "markdown",
      "metadata": {
        "id": "EujMBXtnJQAi",
        "colab_type": "text"
      },
      "source": [
        "# 1. Create dataset for binary classification task (binary crossentropy), where *k-NN* perfoms **worse** than *logistic regression*"
      ]
    },
    {
      "cell_type": "code",
      "metadata": {
        "id": "T_hEzpGnJSnk",
        "colab_type": "code",
        "colab": {}
      },
      "source": [
        "X1 = list(range(1, 1000, 50)) + list(range(10, 1000, 50))\n",
        "X2 = list(range(1, 1000, 50)) + list(range(1, 1000, 50))\n",
        "y = np.array([0] * int(len(X1)/2) + [1] * int(len(X1)/2))"
      ],
      "execution_count": 0,
      "outputs": []
    },
    {
      "cell_type": "code",
      "metadata": {
        "id": "ZJnH9ud5LB1A",
        "colab_type": "code",
        "outputId": "790c44b2-65fc-44cc-f70d-70c12be51855",
        "colab": {
          "base_uri": "https://localhost:8080/",
          "height": 282
        }
      },
      "source": [
        "plt.scatter(X1, X2, c=y)"
      ],
      "execution_count": 0,
      "outputs": [
        {
          "output_type": "execute_result",
          "data": {
            "text/plain": [
              "<matplotlib.collections.PathCollection at 0x7f6121ed8f28>"
            ]
          },
          "metadata": {
            "tags": []
          },
          "execution_count": 154
        },
        {
          "output_type": "display_data",
          "data": {
            "image/png": "[encoded data removed]",
            "text/plain": [
              "<Figure size 432x288 with 1 Axes>"
            ]
          },
          "metadata": {
            "tags": []
          }
        }
      ]
    },
    {
      "cell_type": "code",
      "metadata": {
        "id": "S-1GVM8aNI3o",
        "colab_type": "code",
        "colab": {}
      },
      "source": [
        "data_dict = {'X1': X1, 'X2': X2}\n",
        "df = pd.DataFrame(data_dict)"
      ],
      "execution_count": 0,
      "outputs": []
    },
    {
      "cell_type": "code",
      "metadata": {
        "id": "rldm7m8XWAOL",
        "colab_type": "code",
        "colab": {}
      },
      "source": [
        "X = [] \n",
        "  \n",
        "for idx, rows in df.iterrows(): \n",
        "    my_list = [rows.X1, rows.X2]       \n",
        "    X.append(my_list) "
      ],
      "execution_count": 0,
      "outputs": []
    },
    {
      "cell_type": "code",
      "metadata": {
        "id": "4BEUoOK_MoaT",
        "colab_type": "code",
        "colab": {}
      },
      "source": [
        "clf1 = KNeighborsClassifier()\n",
        "clf2 = LogisticRegression()"
      ],
      "execution_count": 0,
      "outputs": []
    },
    {
      "cell_type": "code",
      "metadata": {
        "id": "3Y90RA3MMRbH",
        "colab_type": "code",
        "colab": {}
      },
      "source": [
        "X_train, X_test, y_train, y_test = train_test_split(X, y, random_state=42)"
      ],
      "execution_count": 0,
      "outputs": []
    },
    {
      "cell_type": "code",
      "metadata": {
        "id": "tDgX56mGSKYJ",
        "colab_type": "code",
        "outputId": "9f5520d7-9ca7-428a-a507-ef7631e0cdab",
        "colab": {
          "base_uri": "https://localhost:8080/",
          "height": 51
        }
      },
      "source": [
        "clf1.fit(X_train, y_train)\n",
        "pred1 = clf1.predict(X_test)\n",
        "print(f'K-NN: {accuracy_score(pred1, y_test)}')\n",
        "clf2.fit(X_train, y_train)\n",
        "pred2 = clf2.predict(X_test)\n",
        "print(f'Logistic regression: {accuracy_score(pred2, y_test)}')"
      ],
      "execution_count": 0,
      "outputs": [
        {
          "output_type": "stream",
          "text": [
            "K-NN: 0.3\n",
            "Logistic regression: 1.0\n"
          ],
          "name": "stdout"
        }
      ]
    },
    {
      "cell_type": "markdown",
      "metadata": {
        "id": "j9Wb1c1TeBPm",
        "colab_type": "text"
      },
      "source": [
        "1.   K-NN справляется хуже, поскольку в выборке много разноклассовых объектов, расположенных близко друг к другу.\n",
        "2.   Логистическая регрессия справляется лучше, поскольку выборка линейно разделима.\n"
      ]
    },
    {
      "cell_type": "markdown",
      "metadata": {
        "id": "jELVyfx6e5Pz",
        "colab_type": "text"
      },
      "source": [
        "# 2. Create dataset for binary classification task (binary crossentropy), where *logistic regression* perfoms **worse** than *k-NN*"
      ]
    },
    {
      "cell_type": "code",
      "metadata": {
        "id": "7rB5Rr4zeA0Q",
        "colab_type": "code",
        "colab": {}
      },
      "source": [
        "data = make_circles(n_samples=100, noise=0.05)\n",
        "X = data[0]  \n",
        "y = data[1]  "
      ],
      "execution_count": 0,
      "outputs": []
    },
    {
      "cell_type": "code",
      "metadata": {
        "id": "Klkrl_TmfgFo",
        "colab_type": "code",
        "outputId": "5e81ff19-e8f3-418d-aff7-0582174624bc",
        "colab": {
          "base_uri": "https://localhost:8080/",
          "height": 282
        }
      },
      "source": [
        "plt.scatter(X[:,0], X[:,1], c=y)"
      ],
      "execution_count": 0,
      "outputs": [
        {
          "output_type": "execute_result",
          "data": {
            "text/plain": [
              "<matplotlib.collections.PathCollection at 0x7f6121a724e0>"
            ]
          },
          "metadata": {
            "tags": []
          },
          "execution_count": 226
        },
        {
          "output_type": "display_data",
          "data": {
            "image/png": "[encoded data removed]",
            "text/plain": [
              "<Figure size 432x288 with 1 Axes>"
            ]
          },
          "metadata": {
            "tags": []
          }
        }
      ]
    },
    {
      "cell_type": "code",
      "metadata": {
        "id": "XWKEQEKCfYq7",
        "colab_type": "code",
        "colab": {}
      },
      "source": [
        "X_train, X_test, y_train, y_test = train_test_split(X, y, random_state=42)"
      ],
      "execution_count": 0,
      "outputs": []
    },
    {
      "cell_type": "code",
      "metadata": {
        "id": "8-VFUD18gySD",
        "colab_type": "code",
        "colab": {}
      },
      "source": [
        "clf1 = KNeighborsClassifier()\n",
        "clf2 = LogisticRegression()"
      ],
      "execution_count": 0,
      "outputs": []
    },
    {
      "cell_type": "code",
      "metadata": {
        "id": "fUhgCvzmfexn",
        "colab_type": "code",
        "outputId": "24eb4a6d-7963-4cc9-bc5d-e64788928517",
        "colab": {
          "base_uri": "https://localhost:8080/",
          "height": 51
        }
      },
      "source": [
        "clf1.fit(X_train, y_train)\n",
        "pred1 = clf1.predict(X_test)\n",
        "print(f'K-NN: {accuracy_score(pred1, y_test)}')\n",
        "clf2.fit(X_train, y_train)\n",
        "pred2 = clf2.predict(X_test)\n",
        "print(f'Logistic regression: {accuracy_score(pred2, y_test)}')"
      ],
      "execution_count": 0,
      "outputs": [
        {
          "output_type": "stream",
          "text": [
            "K-NN: 0.88\n",
            "Logistic regression: 0.48\n"
          ],
          "name": "stdout"
        }
      ]
    },
    {
      "cell_type": "markdown",
      "metadata": {
        "id": "Fm_UL3QRhDpi",
        "colab_type": "text"
      },
      "source": [
        "1. Логистическая регрессия справляется хуже, поскольку выборка линейно неразделима.\n",
        "2. K-NN справляется лучше, поскольку объекты одного класса сгруппированы.\n",
        "\n",
        "\n",
        "\n",
        "\n",
        "\n",
        "\n"
      ]
    },
    {
      "cell_type": "markdown",
      "metadata": {
        "id": "pDgRasdulaee",
        "colab_type": "text"
      },
      "source": [
        "# 3. Create dataset for binary classification task (binary crossentropy), where *k-NN with cosine distance* perfoms **better** than *k-NN with euclidean distance*"
      ]
    },
    {
      "cell_type": "code",
      "metadata": {
        "id": "9svtlOM3pi_w",
        "colab_type": "code",
        "colab": {}
      },
      "source": [
        "X1 = list(range(1, 1000, 25)) + list(range(10, 1000, 25))\n",
        "X2 = list(range(1, 1000, 25)) + list(range(1, 1000, 25))\n",
        "y = np.array([0] * int(len(X1)/2) + [1] * int(len(X1)/2))"
      ],
      "execution_count": 0,
      "outputs": []
    },
    {
      "cell_type": "code",
      "metadata": {
        "id": "f_vO5NY8oHx9",
        "colab_type": "code",
        "outputId": "462f6926-0f06-4b8e-d6e7-3cda8a22dbe5",
        "colab": {
          "base_uri": "https://localhost:8080/",
          "height": 282
        }
      },
      "source": [
        "plt.scatter(X1, X2, c=y)"
      ],
      "execution_count": 0,
      "outputs": [
        {
          "output_type": "execute_result",
          "data": {
            "text/plain": [
              "<matplotlib.collections.PathCollection at 0x7f612157d048>"
            ]
          },
          "metadata": {
            "tags": []
          },
          "execution_count": 290
        },
        {
          "output_type": "display_data",
          "data": {
            "image/png": "[encoded data removed]",
            "text/plain": [
              "<Figure size 432x288 with 1 Axes>"
            ]
          },
          "metadata": {
            "tags": []
          }
        }
      ]
    },
    {
      "cell_type": "code",
      "metadata": {
        "id": "ktYTD5G4saaH",
        "colab_type": "code",
        "colab": {}
      },
      "source": [
        "data_dict = {'X1': X1, 'X2': X2}\n",
        "df = pd.DataFrame(data_dict)"
      ],
      "execution_count": 0,
      "outputs": []
    },
    {
      "cell_type": "code",
      "metadata": {
        "id": "lQxdASudsdcV",
        "colab_type": "code",
        "colab": {}
      },
      "source": [
        "X = [] \n",
        "  \n",
        "for idx, rows in df.iterrows(): \n",
        "    my_list = [rows.X1, rows.X2]       \n",
        "    X.append(my_list) "
      ],
      "execution_count": 0,
      "outputs": []
    },
    {
      "cell_type": "code",
      "metadata": {
        "id": "-4mi1BSXoQIF",
        "colab_type": "code",
        "colab": {}
      },
      "source": [
        "X_train, X_test, y_train, y_test = train_test_split(X, y, random_state=42)"
      ],
      "execution_count": 0,
      "outputs": []
    },
    {
      "cell_type": "code",
      "metadata": {
        "id": "Ax-9AwNNlYcQ",
        "colab_type": "code",
        "colab": {}
      },
      "source": [
        "clf1 = KNeighborsClassifier(metric=\"cosine\")\n",
        "clf2 = KNeighborsClassifier(metric='euclidean')"
      ],
      "execution_count": 0,
      "outputs": []
    },
    {
      "cell_type": "code",
      "metadata": {
        "id": "DzXV3BeDm0Nx",
        "colab_type": "code",
        "outputId": "442be1d3-f992-41e3-fc4e-bebee53eb32d",
        "colab": {
          "base_uri": "https://localhost:8080/",
          "height": 51
        }
      },
      "source": [
        "clf1.fit(X_train, y_train)\n",
        "pred1 = clf1.predict(X_test)\n",
        "print(f'Cosine: {accuracy_score(pred1, y_test)}')\n",
        "clf2.fit(X_train, y_train)\n",
        "pred2 = clf2.predict(X_test)\n",
        "print(f'Euclidean: {accuracy_score(pred2, y_test)}')"
      ],
      "execution_count": 0,
      "outputs": [
        {
          "output_type": "stream",
          "text": [
            "Cosine: 1.0\n",
            "Euclidean: 0.2\n"
          ],
          "name": "stdout"
        }
      ]
    },
    {
      "cell_type": "markdown",
      "metadata": {
        "id": "i-D2xqRPs-nk",
        "colab_type": "text"
      },
      "source": [
        "1. K-NN с cosine distance справляется лучше, поскольку косинусное расстояние между объктами одного класса меньше, чем между объектами разных классов.\n",
        "2. K-NN с euclidean distance справляется хуже, поскольку расстояние между объектами одного класса больше, чем расстояние между объктами разных классов.\n",
        "\n"
      ]
    }
  ]
}