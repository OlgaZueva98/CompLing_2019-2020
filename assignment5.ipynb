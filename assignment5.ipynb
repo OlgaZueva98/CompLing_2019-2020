{
  "nbformat": 4,
  "nbformat_minor": 0,
  "metadata": {
    "colab": {
      "name": "assignment5.ipynb",
      "provenance": [],
      "collapsed_sections": []
    },
    "kernelspec": {
      "name": "python3",
      "display_name": "Python 3"
    }
  },
  "cells": [
    {
      "cell_type": "code",
      "metadata": {
        "id": "x2xZF2s3uuY_",
        "colab_type": "code",
        "colab": {}
      },
      "source": [
        "import torch as tt\n",
        "import pandas as pd\n",
        "from nltk.corpus import stopwords\n",
        "import numpy as np\n",
        "from torchtext.data import Field, LabelField, BucketIterator, TabularDataset, Iterator\n",
        "import nltk\n",
        "import torch.nn.functional as F\n",
        "#from tqdm.autonotebook import tqdm\n",
        "from tqdm import tqdm\n",
        "from sklearn import metrics"
      ],
      "execution_count": 0,
      "outputs": []
    },
    {
      "cell_type": "code",
      "metadata": {
        "id": "74gWtX3ovViL",
        "colab_type": "code",
        "colab": {}
      },
      "source": [
        "np.random.seed(42)"
      ],
      "execution_count": 0,
      "outputs": []
    },
    {
      "cell_type": "code",
      "metadata": {
        "id": "ZGeJRkvmvc-w",
        "colab_type": "code",
        "outputId": "2d70059b-e2de-48f9-9e5d-1714fb654cb2",
        "colab": {
          "base_uri": "https://localhost:8080/",
          "height": 68
        }
      },
      "source": [
        "nltk.download('stopwords')"
      ],
      "execution_count": 3,
      "outputs": [
        {
          "output_type": "stream",
          "text": [
            "[nltk_data] Downloading package stopwords to /root/nltk_data...\n",
            "[nltk_data]   Unzipping corpora/stopwords.zip.\n"
          ],
          "name": "stdout"
        },
        {
          "output_type": "execute_result",
          "data": {
            "text/plain": [
              "True"
            ]
          },
          "metadata": {
            "tags": []
          },
          "execution_count": 3
        }
      ]
    },
    {
      "cell_type": "code",
      "metadata": {
        "id": "3FmO18HvvkNA",
        "colab_type": "code",
        "colab": {}
      },
      "source": [
        "data = pd.read_csv('imdb_master.csv', encoding='latin-1')"
      ],
      "execution_count": 0,
      "outputs": []
    },
    {
      "cell_type": "code",
      "metadata": {
        "id": "3NgCfnt8Ni68",
        "colab_type": "code",
        "colab": {}
      },
      "source": [
        "data = data.loc[data[\"label\"] != \"unsup\"]"
      ],
      "execution_count": 0,
      "outputs": []
    },
    {
      "cell_type": "code",
      "metadata": {
        "id": "mxifomex4iE7",
        "colab_type": "code",
        "colab": {}
      },
      "source": [
        "data.to_csv('imdb_master.csv', encoding='utf-8')"
      ],
      "execution_count": 0,
      "outputs": []
    },
    {
      "cell_type": "code",
      "metadata": {
        "id": "jCX0zsJdNHzk",
        "colab_type": "code",
        "colab": {
          "base_uri": "https://localhost:8080/",
          "height": 470
        },
        "outputId": "a6fd70aa-293d-4a41-d0ec-eb74e662a781"
      },
      "source": [
        "data"
      ],
      "execution_count": 95,
      "outputs": [
        {
          "output_type": "execute_result",
          "data": {
            "text/html": [
              "<div>\n",
              "<style scoped>\n",
              "    .dataframe tbody tr th:only-of-type {\n",
              "        vertical-align: middle;\n",
              "    }\n",
              "\n",
              "    .dataframe tbody tr th {\n",
              "        vertical-align: top;\n",
              "    }\n",
              "\n",
              "    .dataframe thead th {\n",
              "        text-align: right;\n",
              "    }\n",
              "</style>\n",
              "<table border=\"1\" class=\"dataframe\">\n",
              "  <thead>\n",
              "    <tr style=\"text-align: right;\">\n",
              "      <th></th>\n",
              "      <th>Unnamed: 0</th>\n",
              "      <th>Unnamed: 0.1</th>\n",
              "      <th>Unnamed: 0.1.1</th>\n",
              "      <th>Unnamed: 0.1.1.1</th>\n",
              "      <th>type</th>\n",
              "      <th>review</th>\n",
              "      <th>label</th>\n",
              "      <th>file</th>\n",
              "    </tr>\n",
              "  </thead>\n",
              "  <tbody>\n",
              "    <tr>\n",
              "      <th>0</th>\n",
              "      <td>0</td>\n",
              "      <td>0</td>\n",
              "      <td>0</td>\n",
              "      <td>0</td>\n",
              "      <td>test</td>\n",
              "      <td>Once again Mr. Costner has dragged out a movie...</td>\n",
              "      <td>neg</td>\n",
              "      <td>0_2.txt</td>\n",
              "    </tr>\n",
              "    <tr>\n",
              "      <th>1</th>\n",
              "      <td>1</td>\n",
              "      <td>1</td>\n",
              "      <td>1</td>\n",
              "      <td>1</td>\n",
              "      <td>test</td>\n",
              "      <td>This is an example of why the majority of acti...</td>\n",
              "      <td>neg</td>\n",
              "      <td>10000_4.txt</td>\n",
              "    </tr>\n",
              "    <tr>\n",
              "      <th>2</th>\n",
              "      <td>2</td>\n",
              "      <td>2</td>\n",
              "      <td>2</td>\n",
              "      <td>2</td>\n",
              "      <td>test</td>\n",
              "      <td>First of all I hate those moronic rappers, who...</td>\n",
              "      <td>neg</td>\n",
              "      <td>10001_1.txt</td>\n",
              "    </tr>\n",
              "    <tr>\n",
              "      <th>3</th>\n",
              "      <td>3</td>\n",
              "      <td>3</td>\n",
              "      <td>3</td>\n",
              "      <td>3</td>\n",
              "      <td>test</td>\n",
              "      <td>Not even the Beatles could write songs everyon...</td>\n",
              "      <td>neg</td>\n",
              "      <td>10002_3.txt</td>\n",
              "    </tr>\n",
              "    <tr>\n",
              "      <th>4</th>\n",
              "      <td>4</td>\n",
              "      <td>4</td>\n",
              "      <td>4</td>\n",
              "      <td>4</td>\n",
              "      <td>test</td>\n",
              "      <td>Brass pictures (movies is not a fitting word f...</td>\n",
              "      <td>neg</td>\n",
              "      <td>10003_3.txt</td>\n",
              "    </tr>\n",
              "    <tr>\n",
              "      <th>...</th>\n",
              "      <td>...</td>\n",
              "      <td>...</td>\n",
              "      <td>...</td>\n",
              "      <td>...</td>\n",
              "      <td>...</td>\n",
              "      <td>...</td>\n",
              "      <td>...</td>\n",
              "      <td>...</td>\n",
              "    </tr>\n",
              "    <tr>\n",
              "      <th>49995</th>\n",
              "      <td>49995</td>\n",
              "      <td>49995</td>\n",
              "      <td>49995</td>\n",
              "      <td>49995</td>\n",
              "      <td>train</td>\n",
              "      <td>Seeing as the vote average was pretty low, and...</td>\n",
              "      <td>pos</td>\n",
              "      <td>9998_9.txt</td>\n",
              "    </tr>\n",
              "    <tr>\n",
              "      <th>49996</th>\n",
              "      <td>49996</td>\n",
              "      <td>49996</td>\n",
              "      <td>49996</td>\n",
              "      <td>49996</td>\n",
              "      <td>train</td>\n",
              "      <td>The plot had some wretched, unbelievable twist...</td>\n",
              "      <td>pos</td>\n",
              "      <td>9999_8.txt</td>\n",
              "    </tr>\n",
              "    <tr>\n",
              "      <th>49997</th>\n",
              "      <td>49997</td>\n",
              "      <td>49997</td>\n",
              "      <td>49997</td>\n",
              "      <td>49997</td>\n",
              "      <td>train</td>\n",
              "      <td>I am amazed at how this movie(and most others ...</td>\n",
              "      <td>pos</td>\n",
              "      <td>999_10.txt</td>\n",
              "    </tr>\n",
              "    <tr>\n",
              "      <th>49998</th>\n",
              "      <td>49998</td>\n",
              "      <td>49998</td>\n",
              "      <td>49998</td>\n",
              "      <td>49998</td>\n",
              "      <td>train</td>\n",
              "      <td>A Christmas Together actually came before my t...</td>\n",
              "      <td>pos</td>\n",
              "      <td>99_8.txt</td>\n",
              "    </tr>\n",
              "    <tr>\n",
              "      <th>49999</th>\n",
              "      <td>49999</td>\n",
              "      <td>49999</td>\n",
              "      <td>49999</td>\n",
              "      <td>49999</td>\n",
              "      <td>train</td>\n",
              "      <td>Working-class romantic drama from director Mar...</td>\n",
              "      <td>pos</td>\n",
              "      <td>9_7.txt</td>\n",
              "    </tr>\n",
              "  </tbody>\n",
              "</table>\n",
              "<p>50000 rows × 8 columns</p>\n",
              "</div>"
            ],
            "text/plain": [
              "       Unnamed: 0  Unnamed: 0.1  ...  label         file\n",
              "0               0             0  ...    neg      0_2.txt\n",
              "1               1             1  ...    neg  10000_4.txt\n",
              "2               2             2  ...    neg  10001_1.txt\n",
              "3               3             3  ...    neg  10002_3.txt\n",
              "4               4             4  ...    neg  10003_3.txt\n",
              "...           ...           ...  ...    ...          ...\n",
              "49995       49995         49995  ...    pos   9998_9.txt\n",
              "49996       49996         49996  ...    pos   9999_8.txt\n",
              "49997       49997         49997  ...    pos   999_10.txt\n",
              "49998       49998         49998  ...    pos     99_8.txt\n",
              "49999       49999         49999  ...    pos      9_7.txt\n",
              "\n",
              "[50000 rows x 8 columns]"
            ]
          },
          "metadata": {
            "tags": []
          },
          "execution_count": 95
        }
      ]
    },
    {
      "cell_type": "code",
      "metadata": {
        "id": "MvT3P8xWzcUM",
        "colab_type": "code",
        "colab": {}
      },
      "source": [
        "data[data['type'] == 'train'].to_csv('train.csv', encoding='utf-8')"
      ],
      "execution_count": 0,
      "outputs": []
    },
    {
      "cell_type": "code",
      "metadata": {
        "id": "86fVKP9311tf",
        "colab_type": "code",
        "colab": {}
      },
      "source": [
        "data_train = pd.read_csv('train.csv')"
      ],
      "execution_count": 0,
      "outputs": []
    },
    {
      "cell_type": "code",
      "metadata": {
        "id": "Obb5xYRcJUT2",
        "colab_type": "code",
        "colab": {
          "base_uri": "https://localhost:8080/",
          "height": 306
        },
        "outputId": "88616749-062c-4019-ad50-12875c01abd4"
      },
      "source": [
        "data_train.head()"
      ],
      "execution_count": 102,
      "outputs": [
        {
          "output_type": "execute_result",
          "data": {
            "text/html": [
              "<div>\n",
              "<style scoped>\n",
              "    .dataframe tbody tr th:only-of-type {\n",
              "        vertical-align: middle;\n",
              "    }\n",
              "\n",
              "    .dataframe tbody tr th {\n",
              "        vertical-align: top;\n",
              "    }\n",
              "\n",
              "    .dataframe thead th {\n",
              "        text-align: right;\n",
              "    }\n",
              "</style>\n",
              "<table border=\"1\" class=\"dataframe\">\n",
              "  <thead>\n",
              "    <tr style=\"text-align: right;\">\n",
              "      <th></th>\n",
              "      <th>Unnamed: 0</th>\n",
              "      <th>Unnamed: 0.1</th>\n",
              "      <th>Unnamed: 0.1.1</th>\n",
              "      <th>Unnamed: 0.1.1.1</th>\n",
              "      <th>Unnamed: 0.1.1.1.1</th>\n",
              "      <th>type</th>\n",
              "      <th>review</th>\n",
              "      <th>label</th>\n",
              "      <th>file</th>\n",
              "    </tr>\n",
              "  </thead>\n",
              "  <tbody>\n",
              "    <tr>\n",
              "      <th>0</th>\n",
              "      <td>25000</td>\n",
              "      <td>25000</td>\n",
              "      <td>25000</td>\n",
              "      <td>25000</td>\n",
              "      <td>25000</td>\n",
              "      <td>train</td>\n",
              "      <td>Story of a man who has unnatural feelings for ...</td>\n",
              "      <td>neg</td>\n",
              "      <td>0_3.txt</td>\n",
              "    </tr>\n",
              "    <tr>\n",
              "      <th>1</th>\n",
              "      <td>25001</td>\n",
              "      <td>25001</td>\n",
              "      <td>25001</td>\n",
              "      <td>25001</td>\n",
              "      <td>25001</td>\n",
              "      <td>train</td>\n",
              "      <td>Airport '77 starts as a brand new luxury 747 p...</td>\n",
              "      <td>neg</td>\n",
              "      <td>10000_4.txt</td>\n",
              "    </tr>\n",
              "    <tr>\n",
              "      <th>2</th>\n",
              "      <td>25002</td>\n",
              "      <td>25002</td>\n",
              "      <td>25002</td>\n",
              "      <td>25002</td>\n",
              "      <td>25002</td>\n",
              "      <td>train</td>\n",
              "      <td>This film lacked something I couldn't put my f...</td>\n",
              "      <td>neg</td>\n",
              "      <td>10001_4.txt</td>\n",
              "    </tr>\n",
              "    <tr>\n",
              "      <th>3</th>\n",
              "      <td>25003</td>\n",
              "      <td>25003</td>\n",
              "      <td>25003</td>\n",
              "      <td>25003</td>\n",
              "      <td>25003</td>\n",
              "      <td>train</td>\n",
              "      <td>Sorry everyone,,, I know this is supposed to b...</td>\n",
              "      <td>neg</td>\n",
              "      <td>10002_1.txt</td>\n",
              "    </tr>\n",
              "    <tr>\n",
              "      <th>4</th>\n",
              "      <td>25004</td>\n",
              "      <td>25004</td>\n",
              "      <td>25004</td>\n",
              "      <td>25004</td>\n",
              "      <td>25004</td>\n",
              "      <td>train</td>\n",
              "      <td>When I was little my parents took me along to ...</td>\n",
              "      <td>neg</td>\n",
              "      <td>10003_1.txt</td>\n",
              "    </tr>\n",
              "  </tbody>\n",
              "</table>\n",
              "</div>"
            ],
            "text/plain": [
              "   Unnamed: 0  Unnamed: 0.1  ...  label         file\n",
              "0       25000         25000  ...    neg      0_3.txt\n",
              "1       25001         25001  ...    neg  10000_4.txt\n",
              "2       25002         25002  ...    neg  10001_4.txt\n",
              "3       25003         25003  ...    neg  10002_1.txt\n",
              "4       25004         25004  ...    neg  10003_1.txt\n",
              "\n",
              "[5 rows x 9 columns]"
            ]
          },
          "metadata": {
            "tags": []
          },
          "execution_count": 102
        }
      ]
    },
    {
      "cell_type": "code",
      "metadata": {
        "id": "-L2H4rBr3Uma",
        "colab_type": "code",
        "colab": {}
      },
      "source": [
        "data[data['type'] == 'test'].to_csv('test.csv', encoding='utf-8')"
      ],
      "execution_count": 0,
      "outputs": []
    },
    {
      "cell_type": "code",
      "metadata": {
        "id": "9EQ3RmU53eDG",
        "colab_type": "code",
        "colab": {}
      },
      "source": [
        "data_test = pd.read_csv('test.csv')"
      ],
      "execution_count": 0,
      "outputs": []
    },
    {
      "cell_type": "code",
      "metadata": {
        "id": "AGqX21ya3iAI",
        "colab_type": "code",
        "outputId": "3bc7bd9a-32f0-410d-ef04-2ba84a9d8804",
        "colab": {
          "base_uri": "https://localhost:8080/",
          "height": 306
        }
      },
      "source": [
        "data_test.head()"
      ],
      "execution_count": 105,
      "outputs": [
        {
          "output_type": "execute_result",
          "data": {
            "text/html": [
              "<div>\n",
              "<style scoped>\n",
              "    .dataframe tbody tr th:only-of-type {\n",
              "        vertical-align: middle;\n",
              "    }\n",
              "\n",
              "    .dataframe tbody tr th {\n",
              "        vertical-align: top;\n",
              "    }\n",
              "\n",
              "    .dataframe thead th {\n",
              "        text-align: right;\n",
              "    }\n",
              "</style>\n",
              "<table border=\"1\" class=\"dataframe\">\n",
              "  <thead>\n",
              "    <tr style=\"text-align: right;\">\n",
              "      <th></th>\n",
              "      <th>Unnamed: 0</th>\n",
              "      <th>Unnamed: 0.1</th>\n",
              "      <th>Unnamed: 0.1.1</th>\n",
              "      <th>Unnamed: 0.1.1.1</th>\n",
              "      <th>Unnamed: 0.1.1.1.1</th>\n",
              "      <th>type</th>\n",
              "      <th>review</th>\n",
              "      <th>label</th>\n",
              "      <th>file</th>\n",
              "    </tr>\n",
              "  </thead>\n",
              "  <tbody>\n",
              "    <tr>\n",
              "      <th>0</th>\n",
              "      <td>0</td>\n",
              "      <td>0</td>\n",
              "      <td>0</td>\n",
              "      <td>0</td>\n",
              "      <td>0</td>\n",
              "      <td>test</td>\n",
              "      <td>Once again Mr. Costner has dragged out a movie...</td>\n",
              "      <td>neg</td>\n",
              "      <td>0_2.txt</td>\n",
              "    </tr>\n",
              "    <tr>\n",
              "      <th>1</th>\n",
              "      <td>1</td>\n",
              "      <td>1</td>\n",
              "      <td>1</td>\n",
              "      <td>1</td>\n",
              "      <td>1</td>\n",
              "      <td>test</td>\n",
              "      <td>This is an example of why the majority of acti...</td>\n",
              "      <td>neg</td>\n",
              "      <td>10000_4.txt</td>\n",
              "    </tr>\n",
              "    <tr>\n",
              "      <th>2</th>\n",
              "      <td>2</td>\n",
              "      <td>2</td>\n",
              "      <td>2</td>\n",
              "      <td>2</td>\n",
              "      <td>2</td>\n",
              "      <td>test</td>\n",
              "      <td>First of all I hate those moronic rappers, who...</td>\n",
              "      <td>neg</td>\n",
              "      <td>10001_1.txt</td>\n",
              "    </tr>\n",
              "    <tr>\n",
              "      <th>3</th>\n",
              "      <td>3</td>\n",
              "      <td>3</td>\n",
              "      <td>3</td>\n",
              "      <td>3</td>\n",
              "      <td>3</td>\n",
              "      <td>test</td>\n",
              "      <td>Not even the Beatles could write songs everyon...</td>\n",
              "      <td>neg</td>\n",
              "      <td>10002_3.txt</td>\n",
              "    </tr>\n",
              "    <tr>\n",
              "      <th>4</th>\n",
              "      <td>4</td>\n",
              "      <td>4</td>\n",
              "      <td>4</td>\n",
              "      <td>4</td>\n",
              "      <td>4</td>\n",
              "      <td>test</td>\n",
              "      <td>Brass pictures (movies is not a fitting word f...</td>\n",
              "      <td>neg</td>\n",
              "      <td>10003_3.txt</td>\n",
              "    </tr>\n",
              "  </tbody>\n",
              "</table>\n",
              "</div>"
            ],
            "text/plain": [
              "   Unnamed: 0  Unnamed: 0.1  ...  label         file\n",
              "0           0             0  ...    neg      0_2.txt\n",
              "1           1             1  ...    neg  10000_4.txt\n",
              "2           2             2  ...    neg  10001_1.txt\n",
              "3           3             3  ...    neg  10002_3.txt\n",
              "4           4             4  ...    neg  10003_3.txt\n",
              "\n",
              "[5 rows x 9 columns]"
            ]
          },
          "metadata": {
            "tags": []
          },
          "execution_count": 105
        }
      ]
    },
    {
      "cell_type": "code",
      "metadata": {
        "id": "-QljXqAT2-z7",
        "colab_type": "code",
        "colab": {}
      },
      "source": [
        "import spacy\n",
        "\n",
        "\n",
        "spacy_en = spacy.load('en')\n",
        "\n",
        "def tokenizer(text): \n",
        "    return [tok.text for tok in spacy_en.tokenizer(text) if tok.text.isalpha()]"
      ],
      "execution_count": 0,
      "outputs": []
    },
    {
      "cell_type": "code",
      "metadata": {
        "id": "aZuAEaRL1cRJ",
        "colab_type": "code",
        "colab": {}
      },
      "source": [
        "classes={\n",
        "    'neg':0,\n",
        "    'pos':1\n",
        "}\n",
        "#classes={\n",
        "#    'neg':0,\n",
        "#    'pos':1,\n",
        "#    'unsup':2\n",
        "#}\n",
        "\n",
        "TEXT = Field(include_lengths=True, batch_first=True, \n",
        "             tokenize=tokenizer,\n",
        "             eos_token='<eos>',\n",
        "             lower=True,\n",
        "             stop_words=nltk.corpus.stopwords.words('english'))\n",
        "\n",
        "LABEL = LabelField(dtype=tt.int64, use_vocab=True, preprocessing=lambda x: classes[x])\n",
        "\n",
        "dataset = TabularDataset('imdb_master.csv', format='csv',\n",
        "                         fields=[(None, None), (None, None), (None, None), (None, None), (None, None), (None, None), ('review', TEXT), ('label', LABEL), (None, None)], \n",
        "                         skip_header=True)\n",
        "\n",
        "train = TabularDataset('train.csv', format='csv',\n",
        "                         fields=[(None, None), (None, None), (None, None), (None, None), (None, None), (None, None), ('review', TEXT), ('label', LABEL), (None, None)], \n",
        "                         skip_header=True)\n",
        "\n",
        "test = TabularDataset('test.csv', format='csv',\n",
        "                         fields=[(None, None), (None, None), (None, None), (None, None), (None, None), (None, None), ('review', TEXT), ('label', LABEL), (None, None)], \n",
        "                         skip_header=True)"
      ],
      "execution_count": 0,
      "outputs": []
    },
    {
      "cell_type": "code",
      "metadata": {
        "id": "qcJEhCfg3obn",
        "colab_type": "code",
        "colab": {}
      },
      "source": [
        "TEXT.build_vocab(dataset, min_freq=10, vectors=\"glove.6B.100d\")"
      ],
      "execution_count": 0,
      "outputs": []
    },
    {
      "cell_type": "code",
      "metadata": {
        "id": "SpVBPkhW_GEt",
        "colab_type": "code",
        "outputId": "a1c43e76-8f52-47f8-b8b0-0e8ae753779d",
        "colab": {
          "base_uri": "https://localhost:8080/",
          "height": 34
        }
      },
      "source": [
        "len(TEXT.vocab.itos)"
      ],
      "execution_count": 109,
      "outputs": [
        {
          "output_type": "execute_result",
          "data": {
            "text/plain": [
              "27263"
            ]
          },
          "metadata": {
            "tags": []
          },
          "execution_count": 109
        }
      ]
    },
    {
      "cell_type": "code",
      "metadata": {
        "id": "SCcSxkvi7Xh7",
        "colab_type": "code",
        "colab": {}
      },
      "source": [
        "LABEL.build_vocab(dataset)"
      ],
      "execution_count": 0,
      "outputs": []
    },
    {
      "cell_type": "code",
      "metadata": {
        "id": "tC4l7dOs7cYJ",
        "colab_type": "code",
        "colab": {}
      },
      "source": [
        "train, valid = train.split(0.7, stratified=True)"
      ],
      "execution_count": 0,
      "outputs": []
    },
    {
      "cell_type": "code",
      "metadata": {
        "id": "Wybq2aWa7ddw",
        "colab_type": "code",
        "outputId": "b8236ddb-7256-46ec-d306-9c252086b2cd",
        "colab": {
          "base_uri": "https://localhost:8080/",
          "height": 34
        }
      },
      "source": [
        "np.unique([x.label for x in train.examples], return_counts=True)"
      ],
      "execution_count": 112,
      "outputs": [
        {
          "output_type": "execute_result",
          "data": {
            "text/plain": [
              "(array([0, 1]), array([8750, 8750]))"
            ]
          },
          "metadata": {
            "tags": []
          },
          "execution_count": 112
        }
      ]
    },
    {
      "cell_type": "code",
      "metadata": {
        "id": "ik9MpNIr7kon",
        "colab_type": "code",
        "outputId": "0f59ab70-feac-4ef3-e345-005edac30e80",
        "colab": {
          "base_uri": "https://localhost:8080/",
          "height": 34
        }
      },
      "source": [
        "np.unique([x.label for x in valid.examples], return_counts=True)"
      ],
      "execution_count": 113,
      "outputs": [
        {
          "output_type": "execute_result",
          "data": {
            "text/plain": [
              "(array([0, 1]), array([3750, 3750]))"
            ]
          },
          "metadata": {
            "tags": []
          },
          "execution_count": 113
        }
      ]
    },
    {
      "cell_type": "code",
      "metadata": {
        "id": "YPVKbYVQ7ndI",
        "colab_type": "code",
        "colab": {}
      },
      "source": [
        "class MyModel(nn.Module):\n",
        "    \n",
        "    def __init__(self, vocab_size, embed_size, hidden_size, kernels):\n",
        "        super(MyModel, self).__init__()\n",
        "        self.embedding = nn.Embedding(vocab_size, embed_size)\n",
        "        \n",
        "        self.convs = nn.ModuleList([nn.Conv1d(embed_size, hidden_size, k, padding=5) for k in kernels])\n",
        "        self.relu = tt.nn.ReLU(inplace=True)\n",
        "        self.drop_out = nn.Dropout(0.1)\n",
        "        self.fc = nn.Linear(hidden_size * len(kernels), 2)\n",
        "        \n",
        "    def forward(self, x):\n",
        "        \n",
        "        x = self.embedding(x)\n",
        "        x = self.drop_out(x)\n",
        "        x = x.transpose(1,2)\n",
        "        \n",
        "        concatenated = []\n",
        "        for conv in self.convs:\n",
        "            z = conv(x)\n",
        "            z = F.avg_pool1d(z, kernel_size=z.size(2))\n",
        "            z = z.squeeze(2)\n",
        "            concatenated.append(z)\n",
        "            \n",
        "        x = tt.cat(concatenated, 1)\n",
        "        x = self.relu(x) \n",
        "        x = self.fc(x)\n",
        "        return x"
      ],
      "execution_count": 0,
      "outputs": []
    },
    {
      "cell_type": "code",
      "metadata": {
        "id": "zMw5wlUapfZZ",
        "colab_type": "code",
        "colab": {}
      },
      "source": [
        "device = tt.device('cuda') if tt.cuda.is_available() else tt.device('cpu')"
      ],
      "execution_count": 0,
      "outputs": []
    },
    {
      "cell_type": "code",
      "metadata": {
        "id": "NvWfKhXgASuR",
        "colab_type": "code",
        "colab": {}
      },
      "source": [
        "model = MyModel(len(TEXT.vocab.itos), embed_size=100, hidden_size=128, kernels=[2,3,4,5])"
      ],
      "execution_count": 0,
      "outputs": []
    },
    {
      "cell_type": "code",
      "metadata": {
        "id": "i8Oy--UrxFrG",
        "colab_type": "code",
        "colab": {
          "base_uri": "https://localhost:8080/",
          "height": 221
        },
        "outputId": "5a31c0d8-84d3-4571-fe73-3c48179e63ce"
      },
      "source": [
        "model"
      ],
      "execution_count": 117,
      "outputs": [
        {
          "output_type": "execute_result",
          "data": {
            "text/plain": [
              "MyModel(\n",
              "  (embedding): Embedding(27263, 100)\n",
              "  (convs): ModuleList(\n",
              "    (0): Conv1d(100, 128, kernel_size=(2,), stride=(1,), padding=(5,))\n",
              "    (1): Conv1d(100, 128, kernel_size=(3,), stride=(1,), padding=(5,))\n",
              "    (2): Conv1d(100, 128, kernel_size=(4,), stride=(1,), padding=(5,))\n",
              "    (3): Conv1d(100, 128, kernel_size=(5,), stride=(1,), padding=(5,))\n",
              "  )\n",
              "  (relu): ReLU(inplace=True)\n",
              "  (drop_out): Dropout(p=0.1, inplace=False)\n",
              "  (fc): Linear(in_features=512, out_features=2, bias=True)\n",
              ")"
            ]
          },
          "metadata": {
            "tags": []
          },
          "execution_count": 117
        }
      ]
    },
    {
      "cell_type": "code",
      "metadata": {
        "id": "fgHltHyhvi0N",
        "colab_type": "code",
        "colab": {}
      },
      "source": [
        "criterion = tt.nn.CrossEntropyLoss()\n",
        "optimizer = tt.optim.Adam(params=model.parameters())\n",
        "\n",
        "model = model.to(device)\n",
        "criterion = criterion.to(device)"
      ],
      "execution_count": 0,
      "outputs": []
    },
    {
      "cell_type": "code",
      "metadata": {
        "id": "cdOyB3h-wuH3",
        "colab_type": "code",
        "colab": {}
      },
      "source": [
        "tt.cuda.empty_cache()\n",
        "\n",
        "batch_size = 32\n",
        "train_iterator, valid_iterator, test_iterator = BucketIterator.splits(\n",
        "    (train, valid, test),\n",
        "    batch_sizes=(batch_size, batch_size, batch_size),\n",
        "    shuffle=True,\n",
        "    sort_key=lambda x: len(x.review))"
      ],
      "execution_count": 0,
      "outputs": []
    },
    {
      "cell_type": "code",
      "metadata": {
        "id": "wkAMygGLpRaJ",
        "colab_type": "code",
        "colab": {
          "base_uri": "https://localhost:8080/",
          "height": 187
        },
        "outputId": "affc5bee-82bc-4233-b7ef-6ebaec4de2b4"
      },
      "source": [
        "epochs = 10\n",
        "losses = []      \n",
        "best_val_loss = 10.\n",
        "\n",
        "acc_score = []\n",
        "\n",
        "for n_epoch in range(epochs):\n",
        "  train_losses = []\n",
        "  val_losses = []\n",
        "  val_targets = []\n",
        "  val_pred_class = []\n",
        "\n",
        "  progress_bar = tqdm(total=len(train_iterator.dataset), desc='Epoch {}'.format(n_epoch + 1))\n",
        "              \n",
        "  model.train()\n",
        "\n",
        "  for batch in train_iterator:\n",
        "    x = batch.review[0].to(device)\n",
        "    y = batch.label.to(device)\n",
        "\n",
        "    optimizer.zero_grad()\n",
        "\n",
        "    pred = model(x)\n",
        "    loss = criterion(pred, y)\n",
        "    loss.backward() \n",
        "                  \n",
        "    optimizer.step()\n",
        "      \n",
        "    train_losses.append(loss.item())\n",
        "    losses.append(loss.item())\n",
        "  \n",
        "    progress_bar.set_postfix(train_loss = np.mean(losses[-500:]))\n",
        "    progress_bar.update(x.shape[0])\n",
        "          \n",
        "  progress_bar.close()\n",
        "              \n",
        "  model.eval()\n",
        "\n",
        "  for batch in valid_iterator:\n",
        "    x = batch.review[0].to(device)\n",
        "    y = batch.label\n",
        "                  \n",
        "    with tt.no_grad():\n",
        "      val_pred = model(x)\n",
        "      val_pred.cpu()\n",
        "      val_targets.append(y.numpy())\n",
        "      val_pred_class.append(np.argmax(val_pred, axis=1))\n",
        "      val_loss = criterion(val_pred, y)\n",
        "      val_losses.append(val_loss.item())\n",
        "              \n",
        "  mean_val_loss = np.mean(val_losses)            \n",
        "  val_targets = np.concatenate(val_targets).squeeze()\n",
        "  val_pred_class = np.concatenate(val_pred_class).squeeze()\n",
        "\n",
        "  acc = metrics.accuracy_score(val_targets, val_pred_class)\n",
        "  acc_score.append(acc)\n",
        "              \n",
        "  print('Losses: train - {:.3f}, valid - {:.3f}'.format(np.mean(train_losses), mean_val_loss))\n",
        "\n",
        "  print('Accuracy score - {:.3f}'.format(acc))\n",
        "        \n",
        "  # Early stopping:\n",
        "  if mean_val_loss < best_val_loss:\n",
        "    best_val_loss = mean_val_loss\n",
        "  else:\n",
        "    print('Early stopping')\n",
        "    break"
      ],
      "execution_count": 122,
      "outputs": [
        {
          "output_type": "stream",
          "text": [
            "Epoch 1: 100%|██████████| 17500/17500 [04:22<00:00, 57.18it/s, train_loss=0.639]\n",
            "Epoch 2:   0%|          | 0/17500 [00:00<?, ?it/s]"
          ],
          "name": "stderr"
        },
        {
          "output_type": "stream",
          "text": [
            "Losses: train - 0.644, valid - 0.495\n",
            "Accuracy score - 0.816\n"
          ],
          "name": "stdout"
        },
        {
          "output_type": "stream",
          "text": [
            "Epoch 2: 100%|██████████| 17500/17500 [04:23<00:00, 59.70it/s, train_loss=0.391]\n",
            "Epoch 3:   0%|          | 0/17500 [00:00<?, ?it/s]"
          ],
          "name": "stderr"
        },
        {
          "output_type": "stream",
          "text": [
            "Losses: train - 0.397, valid - 0.456\n",
            "Accuracy score - 0.857\n"
          ],
          "name": "stdout"
        },
        {
          "output_type": "stream",
          "text": [
            "Epoch 3: 100%|██████████| 17500/17500 [04:24<00:00, 63.56it/s, train_loss=0.299]\n"
          ],
          "name": "stderr"
        },
        {
          "output_type": "stream",
          "text": [
            "Losses: train - 0.297, valid - 0.475\n",
            "Accuracy score - 0.870\n",
            "Early stopping\n"
          ],
          "name": "stdout"
        }
      ]
    },
    {
      "cell_type": "code",
      "metadata": {
        "id": "P4sHp4s_xP-E",
        "colab_type": "code",
        "colab": {}
      },
      "source": [
        "def test_model(model, test_iterator):\n",
        "  model.eval()\n",
        "  \n",
        "  test_targets = []\n",
        "  test_pred_class = []\n",
        "  \n",
        "  for batch in test_iterator:\n",
        "      x = batch.review[0].to(device)\n",
        "      y = batch.label\n",
        "\n",
        "      with tt.no_grad():\n",
        "          test_pred = model(x)\n",
        "\n",
        "          test_pred= test_pred.cpu()\n",
        "\n",
        "          test_targets.append(y.numpy())\n",
        "          test_pred_class.append(np.argmax(test_pred, axis=1))\n",
        "\n",
        "  test_targets = np.concatenate(test_targets).squeeze()\n",
        "  test_pred_class = np.concatenate(test_pred_class).squeeze()\n",
        "\n",
        "  acc = metrics.accuracy_score(test_targets, test_pred_class)\n",
        "  return acc"
      ],
      "execution_count": 0,
      "outputs": []
    },
    {
      "cell_type": "code",
      "metadata": {
        "id": "hIE7CsmqySNH",
        "colab_type": "code",
        "colab": {
          "base_uri": "https://localhost:8080/",
          "height": 34
        },
        "outputId": "115e9b73-8c55-412e-8d2b-19f62c041561"
      },
      "source": [
        "test_model(model, test_iterator)"
      ],
      "execution_count": 125,
      "outputs": [
        {
          "output_type": "execute_result",
          "data": {
            "text/plain": [
              "0.86544"
            ]
          },
          "metadata": {
            "tags": []
          },
          "execution_count": 125
        }
      ]
    },
    {
      "cell_type": "code",
      "metadata": {
        "id": "oB3K3YiFHj5n",
        "colab_type": "code",
        "colab": {}
      },
      "source": [
        "for instance in list(tqdm._instances): \n",
        "    tqdm._decr_instances(instance)"
      ],
      "execution_count": 0,
      "outputs": []
    }
  ]
}