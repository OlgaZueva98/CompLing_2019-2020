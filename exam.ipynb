{
  "nbformat": 4,
  "nbformat_minor": 0,
  "metadata": {
    "colab": {
      "name": "exam.ipynb",
      "provenance": [],
      "collapsed_sections": [],
      "toc_visible": true
    },
    "kernelspec": {
      "name": "python3",
      "display_name": "Python 3"
    },
    "accelerator": "GPU"
  },
  "cells": [
    {
      "cell_type": "markdown",
      "metadata": {
        "id": "AWXbdPnUxaGK",
        "colab_type": "text"
      },
      "source": [
        "Exam variant 2, question 8"
      ]
    },
    {
      "cell_type": "markdown",
      "metadata": {
        "id": "Zj7t2rOIyC3R",
        "colab_type": "text"
      },
      "source": [
        "# 8. Why do we use Cross Entropy Loss for training a Language Model? "
      ]
    },
    {
      "cell_type": "markdown",
      "metadata": {
        "id": "jkoQUyZEyGDQ",
        "colab_type": "text"
      },
      "source": [
        "Cross Entropy Loss measures the performance of a classification model whose output is a probability value between 0 and 1. Since Language Model is a probability distribution of sequences of words using for binary and multiclass classification, we use Cross Entropy Loss."
      ]
    },
    {
      "cell_type": "markdown",
      "metadata": {
        "id": "NtFAF7O6RPnm",
        "colab_type": "text"
      },
      "source": [
        "# Exam"
      ]
    },
    {
      "cell_type": "code",
      "metadata": {
        "id": "-3uvCvQ5u795",
        "colab_type": "code",
        "colab": {}
      },
      "source": [
        "import pandas as pd\n",
        "import zipfile\n",
        "import io\n",
        "import numpy as np\n",
        "import torch as tt\n",
        "import torch.nn as nn\n",
        "import pandas as pd\n",
        "from nltk.corpus import stopwords\n",
        "import numpy as np\n",
        "from torchtext.data import Field, LabelField, BucketIterator, TabularDataset, Iterator\n",
        "import nltk\n",
        "import torch.nn.functional as F\n",
        "from tqdm import tqdm\n",
        "from sklearn import metrics"
      ],
      "execution_count": 0,
      "outputs": []
    },
    {
      "cell_type": "code",
      "metadata": {
        "id": "Cx3GoLLP6mTc",
        "colab_type": "code",
        "colab": {
          "base_uri": "https://localhost:8080/",
          "height": 68
        },
        "outputId": "36106f9a-0578-4b3d-876b-d82581b3a124"
      },
      "source": [
        "nltk.download('stopwords')"
      ],
      "execution_count": 118,
      "outputs": [
        {
          "output_type": "stream",
          "text": [
            "[nltk_data] Downloading package stopwords to /root/nltk_data...\n",
            "[nltk_data]   Package stopwords is already up-to-date!\n"
          ],
          "name": "stdout"
        },
        {
          "output_type": "execute_result",
          "data": {
            "text/plain": [
              "True"
            ]
          },
          "metadata": {
            "tags": []
          },
          "execution_count": 118
        }
      ]
    },
    {
      "cell_type": "code",
      "metadata": {
        "id": "srz7HyzT6iDJ",
        "colab_type": "code",
        "colab": {}
      },
      "source": [
        "np.random.seed(42)"
      ],
      "execution_count": 0,
      "outputs": []
    },
    {
      "cell_type": "code",
      "metadata": {
        "id": "D_recTiP4YAK",
        "colab_type": "code",
        "colab": {}
      },
      "source": [
        "zf = zipfile.ZipFile('exam_data.zip', \"r\")\n",
        "zf.extractall()"
      ],
      "execution_count": 0,
      "outputs": []
    },
    {
      "cell_type": "code",
      "metadata": {
        "id": "fSqfc8tx3oEp",
        "colab_type": "code",
        "colab": {}
      },
      "source": [
        "import spacy\n",
        "\n",
        "\n",
        "spacy_en = spacy.load('en')\n",
        "spacy_en.remove_pipe('tagger')\n",
        "spacy_en.remove_pipe('ner')\n",
        "\n",
        "from spacy.symbols import ORTH"
      ],
      "execution_count": 0,
      "outputs": []
    },
    {
      "cell_type": "code",
      "metadata": {
        "id": "5YaPoCeN3oj2",
        "colab_type": "code",
        "colab": {}
      },
      "source": [
        "spacy_en.tokenizer.add_special_case(\"don't\", [{ORTH: \"do\"}, {ORTH: \"n't\"}])"
      ],
      "execution_count": 0,
      "outputs": []
    },
    {
      "cell_type": "code",
      "metadata": {
        "id": "VcSYNSnV3qWn",
        "colab_type": "code",
        "colab": {}
      },
      "source": [
        "def tokenizer(text): \n",
        "    return [tok.text for tok in spacy_en.tokenizer(text) if tok.text.isalpha()]"
      ],
      "execution_count": 0,
      "outputs": []
    },
    {
      "cell_type": "code",
      "metadata": {
        "id": "24RD7fzk6uzX",
        "colab_type": "code",
        "colab": {}
      },
      "source": [
        "df_train = pd.read_csv('train.csv')"
      ],
      "execution_count": 0,
      "outputs": []
    },
    {
      "cell_type": "code",
      "metadata": {
        "id": "59fAGwlR6vkJ",
        "colab_type": "code",
        "colab": {
          "base_uri": "https://localhost:8080/",
          "height": 204
        },
        "outputId": "50c67185-2331-4069-a62b-f9dfda4ed840"
      },
      "source": [
        "df_train.head()"
      ],
      "execution_count": 9,
      "outputs": [
        {
          "output_type": "execute_result",
          "data": {
            "text/html": [
              "<div>\n",
              "<style scoped>\n",
              "    .dataframe tbody tr th:only-of-type {\n",
              "        vertical-align: middle;\n",
              "    }\n",
              "\n",
              "    .dataframe tbody tr th {\n",
              "        vertical-align: top;\n",
              "    }\n",
              "\n",
              "    .dataframe thead th {\n",
              "        text-align: right;\n",
              "    }\n",
              "</style>\n",
              "<table border=\"1\" class=\"dataframe\">\n",
              "  <thead>\n",
              "    <tr style=\"text-align: right;\">\n",
              "      <th></th>\n",
              "      <th>review</th>\n",
              "      <th>title</th>\n",
              "      <th>target</th>\n",
              "    </tr>\n",
              "  </thead>\n",
              "  <tbody>\n",
              "    <tr>\n",
              "      <th>0</th>\n",
              "      <td>The staff was very friendly, the breakfast ver...</td>\n",
              "      <td>Walker Gem</td>\n",
              "      <td>5</td>\n",
              "    </tr>\n",
              "    <tr>\n",
              "      <th>1</th>\n",
              "      <td>Excellent service - very approachable and prof...</td>\n",
              "      <td>Excellent Service</td>\n",
              "      <td>4</td>\n",
              "    </tr>\n",
              "    <tr>\n",
              "      <th>2</th>\n",
              "      <td>Really a top notch place to spend a day at the...</td>\n",
              "      <td>Good location, warm and friendly staff</td>\n",
              "      <td>5</td>\n",
              "    </tr>\n",
              "    <tr>\n",
              "      <th>3</th>\n",
              "      <td>a little noisy, there was a false fire alarm a...</td>\n",
              "      <td>nice hotel,</td>\n",
              "      <td>4</td>\n",
              "    </tr>\n",
              "    <tr>\n",
              "      <th>4</th>\n",
              "      <td>Place had too many animals and I'm allergic to...</td>\n",
              "      <td>Experience</td>\n",
              "      <td>3</td>\n",
              "    </tr>\n",
              "  </tbody>\n",
              "</table>\n",
              "</div>"
            ],
            "text/plain": [
              "                                              review  ... target\n",
              "0  The staff was very friendly, the breakfast ver...  ...      5\n",
              "1  Excellent service - very approachable and prof...  ...      4\n",
              "2  Really a top notch place to spend a day at the...  ...      5\n",
              "3  a little noisy, there was a false fire alarm a...  ...      4\n",
              "4  Place had too many animals and I'm allergic to...  ...      3\n",
              "\n",
              "[5 rows x 3 columns]"
            ]
          },
          "metadata": {
            "tags": []
          },
          "execution_count": 9
        }
      ]
    },
    {
      "cell_type": "code",
      "metadata": {
        "id": "mk78LsqJ7Szw",
        "colab_type": "code",
        "colab": {}
      },
      "source": [
        "df_train['target'] = df_train['target'].map({5: 'pos', 4: 'neg', 3: 'neg', 2: 'neg', 1: 'neg'})"
      ],
      "execution_count": 0,
      "outputs": []
    },
    {
      "cell_type": "code",
      "metadata": {
        "id": "XJmaDpDhAkRJ",
        "colab_type": "code",
        "colab": {}
      },
      "source": [
        "del df_train['title']"
      ],
      "execution_count": 0,
      "outputs": []
    },
    {
      "cell_type": "code",
      "metadata": {
        "id": "ejRQAtJ1MePh",
        "colab_type": "code",
        "colab": {}
      },
      "source": [
        "df_train.rename(columns=lambda x: x.replace('target', 'label'), inplace=True)"
      ],
      "execution_count": 0,
      "outputs": []
    },
    {
      "cell_type": "code",
      "metadata": {
        "id": "B0E6kf_w8YD5",
        "colab_type": "code",
        "colab": {
          "base_uri": "https://localhost:8080/",
          "height": 204
        },
        "outputId": "7b4ac6dc-ce58-4418-934d-444ca8babc1e"
      },
      "source": [
        "df_train.head()"
      ],
      "execution_count": 60,
      "outputs": [
        {
          "output_type": "execute_result",
          "data": {
            "text/html": [
              "<div>\n",
              "<style scoped>\n",
              "    .dataframe tbody tr th:only-of-type {\n",
              "        vertical-align: middle;\n",
              "    }\n",
              "\n",
              "    .dataframe tbody tr th {\n",
              "        vertical-align: top;\n",
              "    }\n",
              "\n",
              "    .dataframe thead th {\n",
              "        text-align: right;\n",
              "    }\n",
              "</style>\n",
              "<table border=\"1\" class=\"dataframe\">\n",
              "  <thead>\n",
              "    <tr style=\"text-align: right;\">\n",
              "      <th></th>\n",
              "      <th>review</th>\n",
              "      <th>label</th>\n",
              "    </tr>\n",
              "  </thead>\n",
              "  <tbody>\n",
              "    <tr>\n",
              "      <th>0</th>\n",
              "      <td>The staff was very friendly, the breakfast ver...</td>\n",
              "      <td>pos</td>\n",
              "    </tr>\n",
              "    <tr>\n",
              "      <th>1</th>\n",
              "      <td>Excellent service - very approachable and prof...</td>\n",
              "      <td>neg</td>\n",
              "    </tr>\n",
              "    <tr>\n",
              "      <th>2</th>\n",
              "      <td>Really a top notch place to spend a day at the...</td>\n",
              "      <td>pos</td>\n",
              "    </tr>\n",
              "    <tr>\n",
              "      <th>3</th>\n",
              "      <td>a little noisy, there was a false fire alarm a...</td>\n",
              "      <td>neg</td>\n",
              "    </tr>\n",
              "    <tr>\n",
              "      <th>4</th>\n",
              "      <td>Place had too many animals and I'm allergic to...</td>\n",
              "      <td>neg</td>\n",
              "    </tr>\n",
              "  </tbody>\n",
              "</table>\n",
              "</div>"
            ],
            "text/plain": [
              "                                              review label\n",
              "0  The staff was very friendly, the breakfast ver...   pos\n",
              "1  Excellent service - very approachable and prof...   neg\n",
              "2  Really a top notch place to spend a day at the...   pos\n",
              "3  a little noisy, there was a false fire alarm a...   neg\n",
              "4  Place had too many animals and I'm allergic to...   neg"
            ]
          },
          "metadata": {
            "tags": []
          },
          "execution_count": 60
        }
      ]
    },
    {
      "cell_type": "code",
      "metadata": {
        "id": "98S9EKmwDdf9",
        "colab_type": "code",
        "colab": {}
      },
      "source": [
        "df_train.to_csv('train_new.csv', encoding='utf-8')"
      ],
      "execution_count": 0,
      "outputs": []
    },
    {
      "cell_type": "code",
      "metadata": {
        "id": "_8icGNbJ-BKw",
        "colab_type": "code",
        "colab": {}
      },
      "source": [
        "df_test = pd.read_csv('test.csv')"
      ],
      "execution_count": 0,
      "outputs": []
    },
    {
      "cell_type": "code",
      "metadata": {
        "id": "O5GyKHJN-ISO",
        "colab_type": "code",
        "colab": {
          "base_uri": "https://localhost:8080/",
          "height": 204
        },
        "outputId": "edffe0a3-fddf-4c03-8687-b3b743503215"
      },
      "source": [
        "df_test.head()"
      ],
      "execution_count": 15,
      "outputs": [
        {
          "output_type": "execute_result",
          "data": {
            "text/html": [
              "<div>\n",
              "<style scoped>\n",
              "    .dataframe tbody tr th:only-of-type {\n",
              "        vertical-align: middle;\n",
              "    }\n",
              "\n",
              "    .dataframe tbody tr th {\n",
              "        vertical-align: top;\n",
              "    }\n",
              "\n",
              "    .dataframe thead th {\n",
              "        text-align: right;\n",
              "    }\n",
              "</style>\n",
              "<table border=\"1\" class=\"dataframe\">\n",
              "  <thead>\n",
              "    <tr style=\"text-align: right;\">\n",
              "      <th></th>\n",
              "      <th>review</th>\n",
              "      <th>title</th>\n",
              "      <th>target</th>\n",
              "    </tr>\n",
              "  </thead>\n",
              "  <tbody>\n",
              "    <tr>\n",
              "      <th>0</th>\n",
              "      <td>I am from old town, and I stayed in this hotel...</td>\n",
              "      <td>Incredible Hotel</td>\n",
              "      <td>5</td>\n",
              "    </tr>\n",
              "    <tr>\n",
              "      <th>1</th>\n",
              "      <td>We have been coming to the Ocean Park Inn for ...</td>\n",
              "      <td>We Love this beach front Inn</td>\n",
              "      <td>5</td>\n",
              "    </tr>\n",
              "    <tr>\n",
              "      <th>2</th>\n",
              "      <td>Perfect place for a quick get away. We had a q...</td>\n",
              "      <td>Love this place!</td>\n",
              "      <td>5</td>\n",
              "    </tr>\n",
              "    <tr>\n",
              "      <th>3</th>\n",
              "      <td>The room was not the best however, it was good...</td>\n",
              "      <td>Good For One Night Stay...</td>\n",
              "      <td>2</td>\n",
              "    </tr>\n",
              "    <tr>\n",
              "      <th>4</th>\n",
              "      <td>Sous le motif d'une priode hivernale (inaccept...</td>\n",
              "      <td>Moyen</td>\n",
              "      <td>3</td>\n",
              "    </tr>\n",
              "  </tbody>\n",
              "</table>\n",
              "</div>"
            ],
            "text/plain": [
              "                                              review  ... target\n",
              "0  I am from old town, and I stayed in this hotel...  ...      5\n",
              "1  We have been coming to the Ocean Park Inn for ...  ...      5\n",
              "2  Perfect place for a quick get away. We had a q...  ...      5\n",
              "3  The room was not the best however, it was good...  ...      2\n",
              "4  Sous le motif d'une priode hivernale (inaccept...  ...      3\n",
              "\n",
              "[5 rows x 3 columns]"
            ]
          },
          "metadata": {
            "tags": []
          },
          "execution_count": 15
        }
      ]
    },
    {
      "cell_type": "code",
      "metadata": {
        "id": "Yd5S5PAu-NrY",
        "colab_type": "code",
        "colab": {}
      },
      "source": [
        "df_test['target'] = df_test['target'].map({5: 'pos', 4: 'neg', 3: 'neg', 2: 'neg', 1: 'neg'})"
      ],
      "execution_count": 0,
      "outputs": []
    },
    {
      "cell_type": "code",
      "metadata": {
        "id": "nyIXwqycAqEO",
        "colab_type": "code",
        "colab": {}
      },
      "source": [
        "del df_test['title']"
      ],
      "execution_count": 0,
      "outputs": []
    },
    {
      "cell_type": "code",
      "metadata": {
        "id": "jt_yl70kMuNP",
        "colab_type": "code",
        "colab": {}
      },
      "source": [
        "df_test.rename(columns=lambda x: x.replace('target', 'label'), inplace=True)"
      ],
      "execution_count": 0,
      "outputs": []
    },
    {
      "cell_type": "code",
      "metadata": {
        "id": "5EYICYIE-Qc3",
        "colab_type": "code",
        "colab": {
          "base_uri": "https://localhost:8080/",
          "height": 204
        },
        "outputId": "b8d5efea-fe4a-4479-96db-087a34de5849"
      },
      "source": [
        "df_test.head()"
      ],
      "execution_count": 63,
      "outputs": [
        {
          "output_type": "execute_result",
          "data": {
            "text/html": [
              "<div>\n",
              "<style scoped>\n",
              "    .dataframe tbody tr th:only-of-type {\n",
              "        vertical-align: middle;\n",
              "    }\n",
              "\n",
              "    .dataframe tbody tr th {\n",
              "        vertical-align: top;\n",
              "    }\n",
              "\n",
              "    .dataframe thead th {\n",
              "        text-align: right;\n",
              "    }\n",
              "</style>\n",
              "<table border=\"1\" class=\"dataframe\">\n",
              "  <thead>\n",
              "    <tr style=\"text-align: right;\">\n",
              "      <th></th>\n",
              "      <th>review</th>\n",
              "      <th>label</th>\n",
              "    </tr>\n",
              "  </thead>\n",
              "  <tbody>\n",
              "    <tr>\n",
              "      <th>0</th>\n",
              "      <td>I am from old town, and I stayed in this hotel...</td>\n",
              "      <td>pos</td>\n",
              "    </tr>\n",
              "    <tr>\n",
              "      <th>1</th>\n",
              "      <td>We have been coming to the Ocean Park Inn for ...</td>\n",
              "      <td>pos</td>\n",
              "    </tr>\n",
              "    <tr>\n",
              "      <th>2</th>\n",
              "      <td>Perfect place for a quick get away. We had a q...</td>\n",
              "      <td>pos</td>\n",
              "    </tr>\n",
              "    <tr>\n",
              "      <th>3</th>\n",
              "      <td>The room was not the best however, it was good...</td>\n",
              "      <td>neg</td>\n",
              "    </tr>\n",
              "    <tr>\n",
              "      <th>4</th>\n",
              "      <td>Sous le motif d'une priode hivernale (inaccept...</td>\n",
              "      <td>neg</td>\n",
              "    </tr>\n",
              "  </tbody>\n",
              "</table>\n",
              "</div>"
            ],
            "text/plain": [
              "                                              review label\n",
              "0  I am from old town, and I stayed in this hotel...   pos\n",
              "1  We have been coming to the Ocean Park Inn for ...   pos\n",
              "2  Perfect place for a quick get away. We had a q...   pos\n",
              "3  The room was not the best however, it was good...   neg\n",
              "4  Sous le motif d'une priode hivernale (inaccept...   neg"
            ]
          },
          "metadata": {
            "tags": []
          },
          "execution_count": 63
        }
      ]
    },
    {
      "cell_type": "code",
      "metadata": {
        "id": "7ipBlwfMDT2z",
        "colab_type": "code",
        "colab": {}
      },
      "source": [
        "df_test.to_csv('test_new.csv', encoding='utf-8')"
      ],
      "execution_count": 0,
      "outputs": []
    },
    {
      "cell_type": "code",
      "metadata": {
        "id": "cPc95cMF-Tm_",
        "colab_type": "code",
        "colab": {}
      },
      "source": [
        "dataset = pd.concat([df_train, df_test])"
      ],
      "execution_count": 0,
      "outputs": []
    },
    {
      "cell_type": "code",
      "metadata": {
        "id": "sf37FA5l_kXB",
        "colab_type": "code",
        "colab": {
          "base_uri": "https://localhost:8080/",
          "height": 204
        },
        "outputId": "7336b83c-9441-4b04-94d2-90a76d27ae71"
      },
      "source": [
        "dataset.head()"
      ],
      "execution_count": 66,
      "outputs": [
        {
          "output_type": "execute_result",
          "data": {
            "text/html": [
              "<div>\n",
              "<style scoped>\n",
              "    .dataframe tbody tr th:only-of-type {\n",
              "        vertical-align: middle;\n",
              "    }\n",
              "\n",
              "    .dataframe tbody tr th {\n",
              "        vertical-align: top;\n",
              "    }\n",
              "\n",
              "    .dataframe thead th {\n",
              "        text-align: right;\n",
              "    }\n",
              "</style>\n",
              "<table border=\"1\" class=\"dataframe\">\n",
              "  <thead>\n",
              "    <tr style=\"text-align: right;\">\n",
              "      <th></th>\n",
              "      <th>review</th>\n",
              "      <th>label</th>\n",
              "    </tr>\n",
              "  </thead>\n",
              "  <tbody>\n",
              "    <tr>\n",
              "      <th>0</th>\n",
              "      <td>The staff was very friendly, the breakfast ver...</td>\n",
              "      <td>pos</td>\n",
              "    </tr>\n",
              "    <tr>\n",
              "      <th>1</th>\n",
              "      <td>Excellent service - very approachable and prof...</td>\n",
              "      <td>neg</td>\n",
              "    </tr>\n",
              "    <tr>\n",
              "      <th>2</th>\n",
              "      <td>Really a top notch place to spend a day at the...</td>\n",
              "      <td>pos</td>\n",
              "    </tr>\n",
              "    <tr>\n",
              "      <th>3</th>\n",
              "      <td>a little noisy, there was a false fire alarm a...</td>\n",
              "      <td>neg</td>\n",
              "    </tr>\n",
              "    <tr>\n",
              "      <th>4</th>\n",
              "      <td>Place had too many animals and I'm allergic to...</td>\n",
              "      <td>neg</td>\n",
              "    </tr>\n",
              "  </tbody>\n",
              "</table>\n",
              "</div>"
            ],
            "text/plain": [
              "                                              review label\n",
              "0  The staff was very friendly, the breakfast ver...   pos\n",
              "1  Excellent service - very approachable and prof...   neg\n",
              "2  Really a top notch place to spend a day at the...   pos\n",
              "3  a little noisy, there was a false fire alarm a...   neg\n",
              "4  Place had too many animals and I'm allergic to...   neg"
            ]
          },
          "metadata": {
            "tags": []
          },
          "execution_count": 66
        }
      ]
    },
    {
      "cell_type": "code",
      "metadata": {
        "id": "9VbIis-2-tOu",
        "colab_type": "code",
        "colab": {}
      },
      "source": [
        "dataset.to_csv('dataset.csv', encoding='utf-8')"
      ],
      "execution_count": 0,
      "outputs": []
    },
    {
      "cell_type": "code",
      "metadata": {
        "id": "tGJulrgp7L91",
        "colab_type": "code",
        "colab": {}
      },
      "source": [
        "classes={\n",
        "    'neg':0,\n",
        "    'pos':1\n",
        "}\n",
        "\n",
        "TEXT = Field(include_lengths=True, batch_first=True, \n",
        "             tokenize=tokenizer,\n",
        "             eos_token='<eos>',\n",
        "             lower=True,\n",
        "             stop_words=nltk.corpus.stopwords.words('english'))\n",
        "\n",
        "LABEL = LabelField(dtype=tt.int64, use_vocab=True, preprocessing=lambda x: classes[x])\n",
        "\n",
        "dataset = TabularDataset('dataset.csv', format='csv',\n",
        "                         fields=[(None, None), ('review', TEXT), ('label', LABEL)], \n",
        "                         skip_header=True)\n",
        "\n",
        "train = TabularDataset('train_new.csv', format='csv',\n",
        "                         fields=[(None, None), ('review', TEXT), ('label', LABEL)], \n",
        "                         skip_header=True)\n",
        "\n",
        "test = TabularDataset('test_new.csv', format='csv',\n",
        "                         fields=[(None, None), ('review', TEXT), ('label', LABEL)], \n",
        "                         skip_header=True)"
      ],
      "execution_count": 0,
      "outputs": []
    },
    {
      "cell_type": "code",
      "metadata": {
        "id": "WPVsfs6489nA",
        "colab_type": "code",
        "colab": {}
      },
      "source": [
        "TEXT.build_vocab(dataset, min_freq=10, vectors=\"glove.6B.100d\")"
      ],
      "execution_count": 0,
      "outputs": []
    },
    {
      "cell_type": "code",
      "metadata": {
        "id": "MEKqMFu-8-U-",
        "colab_type": "code",
        "colab": {
          "base_uri": "https://localhost:8080/",
          "height": 34
        },
        "outputId": "397f45f3-4de6-4e33-e954-b388f1b52508"
      },
      "source": [
        "len(TEXT.vocab.itos)"
      ],
      "execution_count": 124,
      "outputs": [
        {
          "output_type": "execute_result",
          "data": {
            "text/plain": [
              "7854"
            ]
          },
          "metadata": {
            "tags": []
          },
          "execution_count": 124
        }
      ]
    },
    {
      "cell_type": "code",
      "metadata": {
        "id": "qbG6me_L8_hA",
        "colab_type": "code",
        "colab": {}
      },
      "source": [
        "LABEL.build_vocab(dataset)"
      ],
      "execution_count": 0,
      "outputs": []
    },
    {
      "cell_type": "code",
      "metadata": {
        "id": "DsRqnORdIE9f",
        "colab_type": "code",
        "colab": {}
      },
      "source": [
        "train, valid = train.split(0.7, stratified=True)"
      ],
      "execution_count": 0,
      "outputs": []
    },
    {
      "cell_type": "code",
      "metadata": {
        "id": "edw1gqUM9IyO",
        "colab_type": "code",
        "colab": {}
      },
      "source": [
        "class MyModel(nn.Module):\n",
        "    \n",
        "    def __init__(self, vocab_size, embed_size, hidden_size, kernels):\n",
        "        super(MyModel, self).__init__()\n",
        "        self.embedding = nn.Embedding(vocab_size, embed_size)\n",
        "        \n",
        "        self.convs = nn.ModuleList([nn.Conv1d(embed_size, hidden_size, k, padding=5) for k in kernels])\n",
        "        self.relu = tt.nn.ReLU(inplace=True)\n",
        "        self.drop_out = nn.Dropout(0.1)\n",
        "        self.fc = nn.Linear(hidden_size * len(kernels), 2)\n",
        "        \n",
        "    def forward(self, x):\n",
        "        \n",
        "        x = self.embedding(x)\n",
        "        x = self.drop_out(x)\n",
        "        x = x.transpose(1,2)\n",
        "        \n",
        "        concatenated = []\n",
        "        for conv in self.convs:\n",
        "            z = conv(x)\n",
        "            z = F.avg_pool1d(z, kernel_size=z.size(2))\n",
        "            z = z.squeeze(2)\n",
        "            concatenated.append(z)\n",
        "            \n",
        "        x = tt.cat(concatenated, 1)\n",
        "        x = self.relu(x) \n",
        "        x = self.fc(x)\n",
        "        return x"
      ],
      "execution_count": 0,
      "outputs": []
    },
    {
      "cell_type": "code",
      "metadata": {
        "id": "V3F7hyZKD6D-",
        "colab_type": "code",
        "colab": {}
      },
      "source": [
        "device = tt.device('cuda') if tt.cuda.is_available() else tt.device('cpu')"
      ],
      "execution_count": 0,
      "outputs": []
    },
    {
      "cell_type": "code",
      "metadata": {
        "id": "MCo6VJJbECEm",
        "colab_type": "code",
        "colab": {}
      },
      "source": [
        "model = MyModel(len(TEXT.vocab.itos), embed_size=100, hidden_size=128, kernels=[2,3,4,5])"
      ],
      "execution_count": 0,
      "outputs": []
    },
    {
      "cell_type": "code",
      "metadata": {
        "id": "9z9rX8NfECfw",
        "colab_type": "code",
        "colab": {
          "base_uri": "https://localhost:8080/",
          "height": 221
        },
        "outputId": "83f1507c-17f1-49da-e939-563a9ace6e02"
      },
      "source": [
        "model"
      ],
      "execution_count": 130,
      "outputs": [
        {
          "output_type": "execute_result",
          "data": {
            "text/plain": [
              "MyModel(\n",
              "  (embedding): Embedding(7854, 100)\n",
              "  (convs): ModuleList(\n",
              "    (0): Conv1d(100, 128, kernel_size=(2,), stride=(1,), padding=(5,))\n",
              "    (1): Conv1d(100, 128, kernel_size=(3,), stride=(1,), padding=(5,))\n",
              "    (2): Conv1d(100, 128, kernel_size=(4,), stride=(1,), padding=(5,))\n",
              "    (3): Conv1d(100, 128, kernel_size=(5,), stride=(1,), padding=(5,))\n",
              "  )\n",
              "  (relu): ReLU(inplace=True)\n",
              "  (drop_out): Dropout(p=0.1, inplace=False)\n",
              "  (fc): Linear(in_features=512, out_features=2, bias=True)\n",
              ")"
            ]
          },
          "metadata": {
            "tags": []
          },
          "execution_count": 130
        }
      ]
    },
    {
      "cell_type": "code",
      "metadata": {
        "id": "WOz0L3K4EFTm",
        "colab_type": "code",
        "colab": {}
      },
      "source": [
        "criterion = nn.CrossEntropyLoss()\n",
        "optimizer = tt.optim.Adam(params=model.parameters())\n",
        "\n",
        "model = model.to(device)\n",
        "criterion = criterion.to(device)"
      ],
      "execution_count": 0,
      "outputs": []
    },
    {
      "cell_type": "code",
      "metadata": {
        "id": "lTD0Svp4EFvd",
        "colab_type": "code",
        "colab": {}
      },
      "source": [
        "tt.cuda.empty_cache()\n",
        "\n",
        "batch_size = 32\n",
        "train_iterator, valid_iterator, test_iterator = BucketIterator.splits(\n",
        "    (train, valid, test),\n",
        "    batch_sizes=(batch_size, batch_size, batch_size),\n",
        "    shuffle=True,\n",
        "    sort_key=lambda x: len(x.review))"
      ],
      "execution_count": 0,
      "outputs": []
    },
    {
      "cell_type": "code",
      "metadata": {
        "id": "aSUkHbfwRFyF",
        "colab_type": "code",
        "colab": {
          "base_uri": "https://localhost:8080/",
          "height": 136
        },
        "outputId": "1c8bad8a-d105-419c-eb7d-ac12529978c8"
      },
      "source": [
        "epochs = 10\n",
        "losses = []      \n",
        "best_val_loss = 10.\n",
        "\n",
        "acc_score = []\n",
        "\n",
        "for n_epoch in range(epochs):\n",
        "  train_losses = []\n",
        "  val_losses = []\n",
        "  val_targets = []\n",
        "  val_pred_class = []\n",
        "\n",
        "  progress_bar = tqdm(total=len(train_iterator.dataset), desc='Epoch {}'.format(n_epoch + 1))\n",
        "              \n",
        "  model.train()\n",
        "\n",
        "  for batch in train_iterator:\n",
        "    x = batch.review[0].to(device)\n",
        "    y = batch.label.to(device)\n",
        "\n",
        "    optimizer.zero_grad()\n",
        "\n",
        "    pred = model(x)\n",
        "    loss = criterion(pred, y)\n",
        "    loss.backward() \n",
        "                  \n",
        "    optimizer.step()\n",
        "      \n",
        "    train_losses.append(loss.item())\n",
        "    losses.append(loss.item())\n",
        "  \n",
        "    progress_bar.set_postfix(train_loss = np.mean(losses[-500:]))\n",
        "    progress_bar.update(x.shape[0])\n",
        "          \n",
        "  progress_bar.close()\n",
        "              \n",
        "  model.eval()\n",
        "\n",
        "  for batch in valid_iterator:\n",
        "    x = batch.review[0].to(device)\n",
        "    y = batch.label\n",
        "                  \n",
        "    with tt.no_grad():\n",
        "      val_pred = model(x)\n",
        "      val_pred = val_pred.cpu()\n",
        "      val_targets.append(y.numpy())\n",
        "      val_pred_class.append(np.argmax(val_pred, axis=1))\n",
        "      val_loss = criterion(val_pred, y)\n",
        "      val_losses.append(val_loss.item())\n",
        "              \n",
        "  mean_val_loss = np.mean(val_losses)            \n",
        "  val_targets = np.concatenate(val_targets).squeeze()\n",
        "  val_pred_class = np.concatenate(val_pred_class).squeeze()\n",
        "\n",
        "  acc = metrics.accuracy_score(val_targets, val_pred_class)\n",
        "  acc_score.append(acc)\n",
        "              \n",
        "  print('Losses: train - {:.3f}, valid - {:.3f}'.format(np.mean(train_losses), mean_val_loss))\n",
        "\n",
        "  print('Accuracy score - {:.3f}'.format(acc))\n",
        "        \n",
        "  # Early stopping:\n",
        "  if mean_val_loss < best_val_loss:\n",
        "    best_val_loss = mean_val_loss\n",
        "  else:\n",
        "    print('Early stopping')\n",
        "    break"
      ],
      "execution_count": 133,
      "outputs": [
        {
          "output_type": "stream",
          "text": [
            "Epoch 1: 100%|██████████| 33735/33735 [00:12<00:00, 2690.39it/s, train_loss=0.555]\n",
            "Epoch 2:   1%|          | 352/33735 [00:00<00:26, 1279.84it/s, train_loss=0.556]"
          ],
          "name": "stderr"
        },
        {
          "output_type": "stream",
          "text": [
            "Losses: train - 0.602, valid - 0.554\n",
            "Accuracy score - 0.747\n"
          ],
          "name": "stdout"
        },
        {
          "output_type": "stream",
          "text": [
            "Epoch 2: 100%|██████████| 33735/33735 [00:12<00:00, 2723.99it/s, train_loss=0.505]\n"
          ],
          "name": "stderr"
        },
        {
          "output_type": "stream",
          "text": [
            "Losses: train - 0.518, valid - 0.646\n",
            "Accuracy score - 0.746\n",
            "Early stopping\n"
          ],
          "name": "stdout"
        }
      ]
    },
    {
      "cell_type": "code",
      "metadata": {
        "id": "myswp9dpENtd",
        "colab_type": "code",
        "colab": {}
      },
      "source": [
        "def test_model(model, test_iterator):\n",
        "  model.eval()\n",
        "  \n",
        "  test_targets = []\n",
        "  test_pred_class = []\n",
        "  \n",
        "  for batch in test_iterator:\n",
        "      x = batch.review[0].to(device)\n",
        "      y = batch.label\n",
        "\n",
        "      with tt.no_grad():\n",
        "          test_pred = model(x)\n",
        "\n",
        "          test_pred= test_pred.cpu()\n",
        "\n",
        "          test_targets.append(y.numpy())\n",
        "          test_pred_class.append(np.argmax(test_pred, axis=1))\n",
        "\n",
        "  test_targets = np.concatenate(test_targets).squeeze()\n",
        "  test_pred_class = np.concatenate(test_pred_class).squeeze()\n",
        "\n",
        "  acc = metrics.accuracy_score(test_targets, test_pred_class)\n",
        "  f1 = metrics.f1_score(test_targets, test_pred_class, average='binary')\n",
        "  print(f'Accuracy: {acc}')\n",
        "  print(f'F1 score: {f1}')"
      ],
      "execution_count": 0,
      "outputs": []
    },
    {
      "cell_type": "code",
      "metadata": {
        "id": "IQxghjFQQyal",
        "colab_type": "code",
        "colab": {
          "base_uri": "https://localhost:8080/",
          "height": 51
        },
        "outputId": "ac3690f1-ea03-4946-8508-14efbb48a91c"
      },
      "source": [
        "test_model(model, test_iterator)"
      ],
      "execution_count": 135,
      "outputs": [
        {
          "output_type": "stream",
          "text": [
            "Accuracy: 0.7436041083099907\n",
            "F1 score: 0.7166150670794633\n"
          ],
          "name": "stdout"
        }
      ]
    },
    {
      "cell_type": "code",
      "metadata": {
        "id": "QJOdrdrr21Y3",
        "colab_type": "code",
        "colab": {}
      },
      "source": [
        "for instance in list(tqdm._instances): \n",
        "    tqdm._decr_instances(instance)"
      ],
      "execution_count": 0,
      "outputs": []
    }
  ]
}